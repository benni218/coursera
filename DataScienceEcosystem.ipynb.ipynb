{
 "cells": [
  {
   "cell_type": "markdown",
   "id": "be087957-919e-4390-b981-2a7b4f6ec329",
   "metadata": {},
   "source": [
    "# Data Science Tools and Ecosystem"
   ]
  },
  {
   "cell_type": "markdown",
   "id": "b07e645f-ebc5-49a1-89d4-8d9f47b080dd",
   "metadata": {},
   "source": [
    "In this notebook, Data Science Tools and Ecosystem are summarized."
   ]
  },
  {
   "cell_type": "markdown",
   "id": "c20b516a-5b03-4d19-a532-4545e3367d08",
   "metadata": {},
   "source": [
    "___Objectives:___\n",
    "* Code\n",
    "* Markdown\n",
    "* Table\n",
    "* ordered list\n",
    "* title"
   ]
  },
  {
   "cell_type": "markdown",
   "id": "e683d01d-9652-4286-b687-0206f5c0c7ce",
   "metadata": {},
   "source": [
    "Some of the popular languages that Data Scientists use are:\n",
    "1. Julia\n",
    "2. Python\n",
    "3. R"
   ]
  },
  {
   "cell_type": "markdown",
   "id": "a8ff7a63-6241-4d2e-84a2-9fa68750a5e5",
   "metadata": {},
   "source": [
    "Some of the commonly used libraries used by Data Scientists include:\n",
    "1. Pandas\n",
    "2. TensorFlow\n",
    "3. scikit-learn"
   ]
  },
  {
   "cell_type": "markdown",
   "id": "f1f82240-74fb-4a4e-a9bf-090e4eadac4d",
   "metadata": {},
   "source": [
    "| Data Science Tools |\n",
    "|----------------------|\n",
    "|Jupyter|\n",
    "|RStudio|\n",
    "|Git|"
   ]
  },
  {
   "cell_type": "markdown",
   "id": "938c5761-a78b-4207-80e7-281d0554eba3",
   "metadata": {},
   "source": [
    "### Below are a few examples of evaluating arithmetic expressions in Python."
   ]
  },
  {
   "cell_type": "code",
   "execution_count": 1,
   "id": "41e71350-e606-4bc2-ada7-43172ae9438c",
   "metadata": {},
   "outputs": [
    {
     "data": {
      "text/plain": [
       "17"
      ]
     },
     "execution_count": 1,
     "metadata": {},
     "output_type": "execute_result"
    }
   ],
   "source": [
    "# This a simple arithmetic expression to mutiply then add integers.\n",
    "(3*4)+5"
   ]
  },
  {
   "cell_type": "code",
   "execution_count": 2,
   "id": "5af6039b-c621-414e-80ce-a36f07165282",
   "metadata": {},
   "outputs": [
    {
     "data": {
      "text/plain": [
       "3.3333333333333335"
      ]
     },
     "execution_count": 2,
     "metadata": {},
     "output_type": "execute_result"
    }
   ],
   "source": [
    "# This will convert 200 minutes to hours by diving by 60.\n",
    "200/60"
   ]
  },
  {
   "cell_type": "markdown",
   "id": "532972d0-7ff1-4e10-a2e4-7f57548745f9",
   "metadata": {},
   "source": [
    "## Author\n",
    "Benjamin Schmitz"
   ]
  }
 ],
 "metadata": {
  "kernelspec": {
   "display_name": "Python 3 (ipykernel)",
   "language": "python",
   "name": "python3"
  },
  "language_info": {
   "codemirror_mode": {
    "name": "ipython",
    "version": 3
   },
   "file_extension": ".py",
   "mimetype": "text/x-python",
   "name": "python",
   "nbconvert_exporter": "python",
   "pygments_lexer": "ipython3",
   "version": "3.11.9"
  }
 },
 "nbformat": 4,
 "nbformat_minor": 5
}
